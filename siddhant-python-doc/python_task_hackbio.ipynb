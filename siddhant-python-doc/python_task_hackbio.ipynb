{
  "nbformat": 4,
  "nbformat_minor": 0,
  "metadata": {
    "colab": {
      "name": "python-task-hackbio.ipynb",
      "provenance": [],
      "authorship_tag": "ABX9TyPEzkNoA3p2TdKjaMRDG621",
      "include_colab_link": true
    },
    "kernelspec": {
      "name": "python3",
      "display_name": "Python 3"
    }
  },
  "cells": [
    {
      "cell_type": "markdown",
      "metadata": {
        "id": "view-in-github",
        "colab_type": "text"
      },
      "source": [
        "<a href=\"https://colab.research.google.com/github/Team-Rosalind/team-rosalind-project/blob/master/python_task_hackbio.ipynb\" target=\"_parent\"><img src=\"https://colab.research.google.com/assets/colab-badge.svg\" alt=\"Open In Colab\"/></a>"
      ]
    },
    {
      "cell_type": "markdown",
      "metadata": {
        "id": "igYBPm6SQd0v",
        "colab_type": "text"
      },
      "source": [
        "### What we did was to first import JSON, as we are using JSON to store our data.\n",
        "\n",
        "\n",
        "---\n",
        "\n",
        "\n",
        "### Then we imported Pandas library to send our JSON data to CSV format. I read the JSON file (information), and dispayed the contents. Then it was outputed to a CSV file.\n",
        "\n",
        "\n",
        "---\n",
        "\n"
      ]
    },
    {
      "cell_type": "code",
      "metadata": {
        "id": "gu78O8KtCSqI",
        "colab_type": "code",
        "colab": {}
      },
      "source": [
        "%pip install pandas\n",
        "import json #grabbing json to work with json file\n",
        "import pandas as pd    #grabbing pandas for playing with data\n",
        "\n",
        "# Opening JSON file \n",
        "f = open('information.json',) \n",
        "\n",
        "# returns JSON object as a dictionary \n",
        "data = json.load(f) \n",
        "\n",
        "# Iterating through the json list \n",
        "for i in data['member-details']: \n",
        "   print(json.dumps(i, indent = 4, sort_keys=True)) #making the output pretty\n",
        "\n",
        "#json to csv\n",
        "df = pd.read_json (r'information.json')\n",
        "export_csv = df.to_csv (r'output.csv', index = None, header=True)\n",
        "\n"
      ],
      "execution_count": null,
      "outputs": []
    }
  ]
}