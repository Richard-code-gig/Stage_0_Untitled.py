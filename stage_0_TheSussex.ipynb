{
 "cells": [
  {
   "cell_type": "code",
   "execution_count": 1,
   "metadata": {},
   "outputs": [
    {
     "name": "stdout",
     "output_type": "stream",
     "text": [
      "NAME: Success Ologunsua, \n",
      "EMAIL: successologunsua@gmail.com, \n",
      "LANGUAGE USED: Python, \n",
      "BIOSTACK: Data Analytics, \n",
      "SLACK USERNAME: @TheSussex\n"
     ]
    }
   ],
   "source": [
    "print(\"NAME: Success Ologunsua, \\nEMAIL: successologunsua@gmail.com, \\nLANGUAGE USED: Python, \\nBIOSTACK: Data Analytics, \\nSLACK USERNAME: @TheSussex\")\n"
   ]
  },
  {
   "cell_type": "code",
   "execution_count": null,
   "metadata": {},
   "outputs": [],
   "source": []
  }
 ],
 "metadata": {
  "kernelspec": {
   "display_name": "Python 3",
   "language": "python",
   "name": "python3"
  },
  "language_info": {
   "codemirror_mode": {
    "name": "ipython",
    "version": 3
   },
   "file_extension": ".py",
   "mimetype": "text/x-python",
   "name": "python",
   "nbconvert_exporter": "python",
   "pygments_lexer": "ipython3",
   "version": "3.7.6"
  }
 },
 "nbformat": 4,
 "nbformat_minor": 4
}
